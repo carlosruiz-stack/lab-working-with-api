{
 "cells": [
  {
   "cell_type": "code",
   "execution_count": 11,
   "id": "fac8dbd9",
   "metadata": {},
   "outputs": [],
   "source": [
    "import requests\n",
    "\n",
    "# establish connection with the url\n",
    "\n",
    "def get_flights_same_price(initial_date, ending_date):\n",
    "    url = \"https://skyscanner-skyscanner-flight-search-v1.p.rapidapi.com/apiservices/browseroutes/v1.0/US/USD/en-US/\"\n",
    "\n",
    "# define the query that we wish to implement     \n",
    "\n",
    "    querystring = {\n",
    "        \"originPlace\": \"MAD-sky\",   # IATA code of the origin airport\n",
    "        \"destinationPlace\": \"AMS-sky\",   # IATA code of the destination airport\n",
    "        \"outboundDate\": initial_date,\n",
    "        \"inboundDate\": ending_date\n",
    "    }\n",
    "    \n",
    "\n",
    "# we copy and paste the headers from the snipets provided on the website \n",
    "    \n",
    "    headers = {\n",
    "        \"X-RapidAPI-Host\": \"skyscanner-api.p.rapidapi.com\",\n",
    "        \"X-RapidAPI-Key\": \"db97201104msh52f05b55139ba21p18e684jsn462a30a8b8ac\" \n",
    "    }\n",
    "    \n",
    "    response = requests.request(\"GET\", url, headers=headers, params=querystring)\n",
    "    data = response.json()\n",
    "    \n",
    "    flights = data[\"Quotes\"]\n",
    "    same_price_flights = []\n",
    "    \n",
    "    for flight in flights:\n",
    "        if flight[\"Direct\"] and flight[\"MinPrice\"] > 0:   # Restriction to get only positive values (price cannot be negative)\n",
    "            price = flight[\"MinPrice\"]\n",
    "            origin = data[\"Places\"][0][\"Name\"]   # We look for the origin in the first position of the array \n",
    "            destination = data[\"Places\"][1][\"Name\"]   # We look for the destination \n",
    "            company = data[\"Carriers\"][0][\"Name\"]   # We look for the airline \n",
    "\n",
    "            # For earch flight, we want to get the price information, origin, destination and airline\n",
    "            same_price_flights.append({\n",
    "                \"Price\": price,\n",
    "                \"Origin\": origin,\n",
    "                \"Destination\": destination,\n",
    "                \"Company\": company\n",
    "            })\n",
    "    \n",
    "    # Finally, the program returns the price, names of origin \n",
    "    # and arrival airports and the name of the company \n",
    "    # for all the flights between two dates that cost the same\n",
    "    \n",
    "    return same_price_flights"
   ]
  },
  {
   "cell_type": "code",
   "execution_count": 10,
   "id": "d8a06487",
   "metadata": {},
   "outputs": [
    {
     "ename": "KeyError",
     "evalue": "'Quotes'",
     "output_type": "error",
     "traceback": [
      "\u001b[1;31m---------------------------------------------------------------------------\u001b[0m",
      "\u001b[1;31mKeyError\u001b[0m                                  Traceback (most recent call last)",
      "\u001b[1;32m~\\AppData\\Local\\Temp\\ipykernel_12328\\2041607693.py\u001b[0m in \u001b[0;36m<module>\u001b[1;34m\u001b[0m\n\u001b[0;32m      1\u001b[0m \u001b[0minitial_date\u001b[0m \u001b[1;33m=\u001b[0m \u001b[1;34m\"2023-07-01\"\u001b[0m\u001b[1;33m\u001b[0m\u001b[1;33m\u001b[0m\u001b[0m\n\u001b[0;32m      2\u001b[0m \u001b[0mending_date\u001b[0m \u001b[1;33m=\u001b[0m \u001b[1;34m\"2023-07-07\"\u001b[0m\u001b[1;33m\u001b[0m\u001b[1;33m\u001b[0m\u001b[0m\n\u001b[1;32m----> 3\u001b[1;33m \u001b[0mresult\u001b[0m \u001b[1;33m=\u001b[0m \u001b[0mget_flights_same_price\u001b[0m\u001b[1;33m(\u001b[0m\u001b[0minitial_date\u001b[0m\u001b[1;33m,\u001b[0m \u001b[0mending_date\u001b[0m\u001b[1;33m)\u001b[0m\u001b[1;33m\u001b[0m\u001b[1;33m\u001b[0m\u001b[0m\n\u001b[0m\u001b[0;32m      4\u001b[0m \u001b[1;33m\u001b[0m\u001b[0m\n\u001b[0;32m      5\u001b[0m \u001b[1;32mfor\u001b[0m \u001b[0mflight\u001b[0m \u001b[1;32min\u001b[0m \u001b[0mresult\u001b[0m\u001b[1;33m:\u001b[0m\u001b[1;33m\u001b[0m\u001b[1;33m\u001b[0m\u001b[0m\n",
      "\u001b[1;32m~\\AppData\\Local\\Temp\\ipykernel_12328\\3198779101.py\u001b[0m in \u001b[0;36mget_flights_same_price\u001b[1;34m(initial_date, ending_date)\u001b[0m\n\u001b[0;32m     26\u001b[0m     \u001b[0mdata\u001b[0m \u001b[1;33m=\u001b[0m \u001b[0mresponse\u001b[0m\u001b[1;33m.\u001b[0m\u001b[0mjson\u001b[0m\u001b[1;33m(\u001b[0m\u001b[1;33m)\u001b[0m\u001b[1;33m\u001b[0m\u001b[1;33m\u001b[0m\u001b[0m\n\u001b[0;32m     27\u001b[0m \u001b[1;33m\u001b[0m\u001b[0m\n\u001b[1;32m---> 28\u001b[1;33m     \u001b[0mflights\u001b[0m \u001b[1;33m=\u001b[0m \u001b[0mdata\u001b[0m\u001b[1;33m[\u001b[0m\u001b[1;34m\"Quotes\"\u001b[0m\u001b[1;33m]\u001b[0m\u001b[1;33m\u001b[0m\u001b[1;33m\u001b[0m\u001b[0m\n\u001b[0m\u001b[0;32m     29\u001b[0m     \u001b[0msame_price_flights\u001b[0m \u001b[1;33m=\u001b[0m \u001b[1;33m[\u001b[0m\u001b[1;33m]\u001b[0m\u001b[1;33m\u001b[0m\u001b[1;33m\u001b[0m\u001b[0m\n\u001b[0;32m     30\u001b[0m \u001b[1;33m\u001b[0m\u001b[0m\n",
      "\u001b[1;31mKeyError\u001b[0m: 'Quotes'"
     ]
    }
   ],
   "source": [
    "initial_date = \"2023-07-01\"\n",
    "ending_date = \"2023-07-07\"\n",
    "result = get_flights_same_price(initial_date, ending_date)\n",
    "\n",
    "for flight in result:\n",
    "    print(f\"Price: {flight['Price']}\")\n",
    "    print(f\"Origin: {flight['Origin']}\")\n",
    "    print(f\"Destination: {flight['Destination']}\")\n",
    "    print(f\"Company: {flight['Company']}\")\n",
    "    print()"
   ]
  },
  {
   "cell_type": "markdown",
   "id": "69266092",
   "metadata": {},
   "source": [
    "I get error when running the program and does not return any result "
   ]
  },
  {
   "cell_type": "code",
   "execution_count": null,
   "id": "94d2a2f3",
   "metadata": {},
   "outputs": [],
   "source": [
    " "
   ]
  },
  {
   "cell_type": "code",
   "execution_count": null,
   "id": "2a4ca8a5",
   "metadata": {},
   "outputs": [],
   "source": []
  },
  {
   "cell_type": "code",
   "execution_count": null,
   "id": "03e71fd1",
   "metadata": {},
   "outputs": [],
   "source": []
  }
 ],
 "metadata": {
  "kernelspec": {
   "display_name": "Python 3 (ipykernel)",
   "language": "python",
   "name": "python3"
  },
  "language_info": {
   "codemirror_mode": {
    "name": "ipython",
    "version": 3
   },
   "file_extension": ".py",
   "mimetype": "text/x-python",
   "name": "python",
   "nbconvert_exporter": "python",
   "pygments_lexer": "ipython3",
   "version": "3.9.13"
  }
 },
 "nbformat": 4,
 "nbformat_minor": 5
}
